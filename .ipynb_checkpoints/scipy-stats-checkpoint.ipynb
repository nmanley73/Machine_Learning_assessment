{
 "cells": [
  {
   "cell_type": "markdown",
   "id": "9e28f7ea-1caf-4e65-8a94-50331db829aa",
   "metadata": {},
   "source": [
    "# Machine Learning Assessment\n",
    "\n",
    "***"
   ]
  },
  {
   "cell_type": "markdown",
   "id": "2d14ab88-d7cf-44a4-a875-0db69a5cc027",
   "metadata": {},
   "source": [
    "## Overview of Scipy.Stats python Library:"
   ]
  },
  {
   "cell_type": "markdown",
   "id": "bdd203f6-5f8e-46cb-aec1-95e0865088db",
   "metadata": {},
   "source": [
    "Scipy.Stats is a sub-package of the Scipy library. Scipy.stats is an open source library which consists of a package used predominantly for \n",
    "probabilistic distributions and statistical operations. Scipy.Stats also consists of functions that generate descriptive statistical values.\n",
    "It deals with random, continuous variables. Common functions of scipy stats package include t-test, binomial distribution and Uniform distribution, kernal density estimation [1]."
   ]
  },
  {
   "cell_type": "markdown",
   "id": "55377ffb-f1e8-46af-a2c3-d19538e1e84b",
   "metadata": {},
   "source": [
    "## ANOVA hypothesis testing"
   ]
  },
  {
   "cell_type": "markdown",
   "id": "2453ce6f-2598-442f-8477-306926cd274a",
   "metadata": {},
   "source": [
    "One-way ANOVA testing which is an acronym for analysis of variance is used to determine if there is any statistically significant differences \n",
    "between the means of two or more independent groups. The minimum number of groups that the one-way ANOVA can be implemented on with a degree of \n",
    "accuracy is 3. In this project the crop yield dataset is analysed based upon the three different fertilizer mixtures. ANOVA is an Omnibus test statistic \n",
    "according to Laerd statistics [2] in that you cannot tell which of the groups are statistically significantly different from each other. So using \n",
    "the ANOVA to analyse the three different fertilizer mixture groups the result may return the difference as significant which means that one of the \n",
    "groups is different but the user cannot identify which group. A post-hoc test is used afterwards to determine which group is different.\n",
    "In a one-way ANOVA there are two possible hypotheses.\n",
    "\n",
    "With the one-way ANOVA there are two possible outcomes: [3] The null hypothesis (H0) is that there is no difference between the 3 groups and equality between means \n",
    "(the crop yield from the fertilizer mixture does not produce a significant difference). The alternative hypothesis (H1) is that there is a difference between \n",
    "the means and groups (the fertilizer mixture produce different crop yield results)."
   ]
  },
  {
   "cell_type": "markdown",
   "id": "c799e576-a062-4fdb-85ff-ac0f0c41eb1e",
   "metadata": {},
   "source": [
    "### Description of dataset:"
   ]
  },
  {
   "cell_type": "markdown",
   "id": "8599492f-a7d9-4195-8182-c1d6fe63e205",
   "metadata": {},
   "source": [
    "For the ANOVA analysis the Crop yield dataset is utilised. From the shape function output the dataset consists of 96 records and 4 variables. \n",
    "The one-way ANOVA (which uses one independent variable) establishes if the three different fertilizer mixtures effects the crop yield variable and \n",
    "identifies if there is a significant difference between the three groups of fertilizer mixture.\n",
    "The Crop yield data includes the following variables:\n",
    "- fertilizer type (type 1, 2, or 3)\n",
    "- planting density (1 = low density, 2 = high density)\n",
    "- planting location in the field (blocks 1, 2, 3, or 4)\n",
    "- final crop yield (in bushels per acre)."
   ]
  },
  {
   "cell_type": "code",
   "execution_count": 1,
   "id": "ee745592-030b-407c-ad9e-f4128ce4df2b",
   "metadata": {},
   "outputs": [],
   "source": [
    "# import libraries\n",
    "import scipy.stats as ss\n",
    "from scipy.stats import f_oneway\n",
    "from statsmodels.stats.multicomp import pairwise_tukeyhsd\n",
    "import matplotlib.pyplot as plt \n",
    "import matplotlib as mpl \n",
    "import numpy as np\n",
    "import seaborn as sns\n",
    "import pandas as pd"
   ]
  },
  {
   "cell_type": "code",
   "execution_count": 2,
   "id": "1e4cf461-2ce8-49b9-bcad-c620ce95b31b",
   "metadata": {},
   "outputs": [
    {
     "name": "stdout",
     "output_type": "stream",
     "text": [
      "Index(['density', 'block', 'fertilizer', 'yield'], dtype='object')\n",
      "(96, 4)\n"
     ]
    },
    {
     "data": {
      "text/html": [
       "<div>\n",
       "<style scoped>\n",
       "    .dataframe tbody tr th:only-of-type {\n",
       "        vertical-align: middle;\n",
       "    }\n",
       "\n",
       "    .dataframe tbody tr th {\n",
       "        vertical-align: top;\n",
       "    }\n",
       "\n",
       "    .dataframe thead th {\n",
       "        text-align: right;\n",
       "    }\n",
       "</style>\n",
       "<table border=\"1\" class=\"dataframe\">\n",
       "  <thead>\n",
       "    <tr style=\"text-align: right;\">\n",
       "      <th></th>\n",
       "      <th>density</th>\n",
       "      <th>block</th>\n",
       "      <th>fertilizer</th>\n",
       "      <th>yield</th>\n",
       "    </tr>\n",
       "  </thead>\n",
       "  <tbody>\n",
       "    <tr>\n",
       "      <th>count</th>\n",
       "      <td>96.000000</td>\n",
       "      <td>96.000000</td>\n",
       "      <td>96.000000</td>\n",
       "      <td>96.000000</td>\n",
       "    </tr>\n",
       "    <tr>\n",
       "      <th>mean</th>\n",
       "      <td>1.500000</td>\n",
       "      <td>2.500000</td>\n",
       "      <td>2.000000</td>\n",
       "      <td>177.015476</td>\n",
       "    </tr>\n",
       "    <tr>\n",
       "      <th>std</th>\n",
       "      <td>0.502625</td>\n",
       "      <td>1.123903</td>\n",
       "      <td>0.820783</td>\n",
       "      <td>0.664548</td>\n",
       "    </tr>\n",
       "    <tr>\n",
       "      <th>min</th>\n",
       "      <td>1.000000</td>\n",
       "      <td>1.000000</td>\n",
       "      <td>1.000000</td>\n",
       "      <td>175.360840</td>\n",
       "    </tr>\n",
       "    <tr>\n",
       "      <th>25%</th>\n",
       "      <td>1.000000</td>\n",
       "      <td>1.750000</td>\n",
       "      <td>1.000000</td>\n",
       "      <td>176.468696</td>\n",
       "    </tr>\n",
       "    <tr>\n",
       "      <th>50%</th>\n",
       "      <td>1.500000</td>\n",
       "      <td>2.500000</td>\n",
       "      <td>2.000000</td>\n",
       "      <td>177.058105</td>\n",
       "    </tr>\n",
       "    <tr>\n",
       "      <th>75%</th>\n",
       "      <td>2.000000</td>\n",
       "      <td>3.250000</td>\n",
       "      <td>3.000000</td>\n",
       "      <td>177.398571</td>\n",
       "    </tr>\n",
       "    <tr>\n",
       "      <th>max</th>\n",
       "      <td>2.000000</td>\n",
       "      <td>4.000000</td>\n",
       "      <td>3.000000</td>\n",
       "      <td>179.060899</td>\n",
       "    </tr>\n",
       "  </tbody>\n",
       "</table>\n",
       "</div>"
      ],
      "text/plain": [
       "         density      block  fertilizer       yield\n",
       "count  96.000000  96.000000   96.000000   96.000000\n",
       "mean    1.500000   2.500000    2.000000  177.015476\n",
       "std     0.502625   1.123903    0.820783    0.664548\n",
       "min     1.000000   1.000000    1.000000  175.360840\n",
       "25%     1.000000   1.750000    1.000000  176.468696\n",
       "50%     1.500000   2.500000    2.000000  177.058105\n",
       "75%     2.000000   3.250000    3.000000  177.398571\n",
       "max     2.000000   4.000000    3.000000  179.060899"
      ]
     },
     "execution_count": 2,
     "metadata": {},
     "output_type": "execute_result"
    }
   ],
   "source": [
    "# load the data using pandas\n",
    "df = pd.read_csv(\"data\\crop.data.csv\")\n",
    "\n",
    "# display the attributes\n",
    "print (df.keys())\n",
    "\n",
    "# displays number of records and variables\n",
    "print (df.shape)\n",
    "\n",
    "# get a statistical view of the dataset\n",
    "df.describe()"
   ]
  },
  {
   "cell_type": "markdown",
   "id": "451446a6-80bb-488e-9b90-ad5b40da845a",
   "metadata": {},
   "source": [
    "### Assumptions"
   ]
  },
  {
   "cell_type": "markdown",
   "id": "952b1440-2a6e-4107-89a6-1a5cc8eba1c3",
   "metadata": {},
   "source": [
    "The first part of the process is to check whether the data is suitable for one-way ANOVA testing. There are six assumptions that the data must adhere to in order for the one-way ANOVA to produce results which are reliable. The fertilizer variable is the quantitative dependent variable in this case as a change in the fertilizer mixture has an effect on the crop yield (categorical independent variable). There are three levels of fertilizer mixture within the fertilizer variable."
   ]
  },
  {
   "cell_type": "markdown",
   "id": "f3019775-5f03-4fd2-a27b-3667678ce348",
   "metadata": {},
   "source": [
    "### Assumption 1:"
   ]
  },
  {
   "cell_type": "markdown",
   "id": "41a0e03b-badc-4d70-8a04-aa58d54a8141",
   "metadata": {},
   "source": [
    " The dependent variable is a numerical value that is continuous. The dependent variable (yield) passes this assumption."
   ]
  },
  {
   "cell_type": "code",
   "execution_count": 3,
   "id": "576dcab8-659f-48a4-b84b-3cb4794d1423",
   "metadata": {},
   "outputs": [
    {
     "data": {
      "text/plain": [
       "0     177.228692\n",
       "1     177.550041\n",
       "2     176.408462\n",
       "3     177.703625\n",
       "4     177.125486\n",
       "         ...    \n",
       "91    177.405292\n",
       "92    178.141644\n",
       "93    177.710613\n",
       "94    177.687264\n",
       "95    177.118176\n",
       "Name: yield, Length: 96, dtype: float64"
      ]
     },
     "execution_count": 3,
     "metadata": {},
     "output_type": "execute_result"
    }
   ],
   "source": [
    "# dependent variable.\n",
    "dv = df['yield']\n",
    "dv"
   ]
  },
  {
   "cell_type": "markdown",
   "id": "74a377ff-8270-46c9-b89f-e8fa30bbf4c8",
   "metadata": {},
   "source": [
    "#### Assumption 2:"
   ]
  },
  {
   "cell_type": "markdown",
   "id": "9a438b3d-3603-47eb-929e-47669a3f64dc",
   "metadata": {},
   "source": [
    "Independent variable (fertilizer) should be categorical and consists of 3 fertilizer mixture groups."
   ]
  },
  {
   "cell_type": "code",
   "execution_count": 4,
   "id": "8a65537d-4e5a-4615-8e01-bb575cdc25b8",
   "metadata": {},
   "outputs": [
    {
     "data": {
      "text/plain": [
       "0     1\n",
       "1     1\n",
       "2     1\n",
       "3     1\n",
       "4     1\n",
       "     ..\n",
       "91    3\n",
       "92    3\n",
       "93    3\n",
       "94    3\n",
       "95    3\n",
       "Name: fertilizer, Length: 96, dtype: int64"
      ]
     },
     "execution_count": 4,
     "metadata": {},
     "output_type": "execute_result"
    }
   ],
   "source": [
    "# independent variable.\n",
    "iv = df['fertilizer']\n",
    "iv"
   ]
  },
  {
   "cell_type": "markdown",
   "id": "07f07481-2c0e-42f6-b82d-cb2c58cf93ba",
   "metadata": {},
   "source": [
    "#### Assumption 3:\n",
    "\n",
    "***"
   ]
  },
  {
   "cell_type": "markdown",
   "id": "54776ca2-3c69-4389-9950-1f21dbf572cc",
   "metadata": {},
   "source": [
    "Each record in the dataset should be independent. There are no relationships between the results of the dependent variable. There are 32 observations for each of the 3 fertilizer \n",
    "mixtures. There is some overlap in results but the data was collected in a manner which is statistically valid in that each datapoint is measured independent of all the other datapoints \n",
    "in the dataset. This assumption cannot be tested but from viewing the data the assumption is categorised are meeting the assumption."
   ]
  },
  {
   "cell_type": "markdown",
   "id": "ee5e096d-05cf-4290-8cb7-9879af3da340",
   "metadata": {},
   "source": [
    "#### Assumption 4:"
   ]
  },
  {
   "cell_type": "markdown",
   "id": "64e4e648-ed6a-486e-9379-ba7b5826fcfb",
   "metadata": {},
   "source": [
    "The dataset should not contain significant outliers in the data. The issue with outliers is that they can have a negative effect on the one-way ANOVA, reducing the reliability of the\n",
    "result. From viewing the Seaborn boxplot (below) [4] of the data there is a possible outlier as there is a single datapoint in fertilizer mixture group 3 which does not follow the pattern \n",
    "of the remainder of the datapoints.\n",
    "The outermost whiskers of the boxplot represent the lowest and highest datapoints of the dataset that falls within the acceptable range of the dataset. The max datapoint of is outside \n",
    "of the range of the outlier calculation."
   ]
  },
  {
   "cell_type": "code",
   "execution_count": 5,
   "id": "5d94a07c-7c4c-4e08-9ac8-47bfc9dced59",
   "metadata": {},
   "outputs": [
    {
     "data": {
      "text/plain": [
       "count     96.000000\n",
       "mean     177.015476\n",
       "std        0.664548\n",
       "min      175.360840\n",
       "25%      176.468696\n",
       "50%      177.058105\n",
       "75%      177.398571\n",
       "max      179.060899\n",
       "Name: yield, dtype: float64"
      ]
     },
     "execution_count": 5,
     "metadata": {},
     "output_type": "execute_result"
    }
   ],
   "source": [
    "# show stats for yield variable.\n",
    "x = df.describe()['yield']\n",
    "x"
   ]
  },
  {
   "cell_type": "code",
   "execution_count": 6,
   "id": "f6d24182-ab1c-427d-97a3-bae258f158f1",
   "metadata": {},
   "outputs": [
    {
     "name": "stderr",
     "output_type": "stream",
     "text": [
      "C:\\Users\\Noel\\anaconda3\\lib\\site-packages\\seaborn\\_decorators.py:36: FutureWarning: Pass the following variables as keyword args: x, y. From version 0.12, the only valid positional argument will be `data`, and passing other arguments without an explicit keyword will result in an error or misinterpretation.\n",
      "  warnings.warn(\n"
     ]
    },
    {
     "data": {
      "text/plain": [
       "178.7933835"
      ]
     },
     "execution_count": 6,
     "metadata": {},
     "output_type": "execute_result"
    },
    {
     "data": {
      "image/png": "[encoded data removed]",
      "text/plain": [
       "<Figure size 432x288 with 1 Axes>"
      ]
     },
     "metadata": {
      "needs_background": "light"
     },
     "output_type": "display_data"
    }
   ],
   "source": [
    "# boxplot to identify if there are outliers.\n",
    "sns.boxplot(iv, dv)\n",
    "\n",
    "x = (177.398571 - 176.468696) * 1.5\n",
    "y = 177.398571 + x\n",
    "y"
   ]
  },
  {
   "cell_type": "markdown",
   "id": "c6910aaa-ac19-435e-b47e-d10779dc708a",
   "metadata": {},
   "source": [
    "#### Assumption 5:"
   ]
  },
  {
   "cell_type": "markdown",
   "id": "b9cc1b45-4201-4a28-894c-e829eb82db9a",
   "metadata": {},
   "source": [
    "The dependent variable (yield) should be normally distributed for each of the three fertilizer mixture groups. As can be seen below displot \n",
    "below the three groups are normally distributed although data for fertilizer group 1 is not as normally distributed as group 2 and group 3. \n",
    "The Shapiro-Wilks tests if groups are normally distributed. If the p-value of is greater than 0.5 then the data is normal. The test is \n",
    "applied below and all three fertilizer groups are normally distributed."
   ]
  },
  {
   "cell_type": "code",
   "execution_count": 7,
   "id": "087db28d-f23e-46be-a07f-d35b511fdddd",
   "metadata": {},
   "outputs": [
    {
     "data": {
      "text/plain": [
       "<seaborn.axisgrid.FacetGrid at 0x24a224a5940>"
      ]
     },
     "execution_count": 7,
     "metadata": {},
     "output_type": "execute_result"
    },
    {
     "data": {
      "image/png": "[encoded data removed]",
      "text/plain": [
       "<Figure size 409.75x360 with 1 Axes>"
      ]
     },
     "metadata": {
      "needs_background": "light"
     },
     "output_type": "display_data"
    }
   ],
   "source": [
    "# seaborn displot to establish the normality of the 3 fertilizer mixtures.\n",
    "sns.displot(x=dv, hue=iv, kind=\"kde\")"
   ]
  },
  {
   "cell_type": "code",
   "execution_count": 8,
   "id": "873cb075-3746-4513-a07c-82012eef3f41",
   "metadata": {},
   "outputs": [
    {
     "data": {
      "text/plain": [
       "(ShapiroResult(statistic=0.9791430234909058, pvalue=0.7743139863014221),\n",
       " ShapiroResult(statistic=0.9832894802093506, pvalue=0.8874866366386414),\n",
       " ShapiroResult(statistic=0.9587748646736145, pvalue=0.25418972969055176))"
      ]
     },
     "execution_count": 8,
     "metadata": {},
     "output_type": "execute_result"
    }
   ],
   "source": [
    "# shapiro test to prove normality.\n",
    "fgroup1 = dv[iv == 1]\n",
    "fgroup2 = dv[iv == 2]\n",
    "fgroup3 = dv[iv == 3]\n",
    "ss.shapiro(fgroup1), ss.shapiro(fgroup2), ss.shapiro(fgroup3)\n"
   ]
  },
  {
   "cell_type": "markdown",
   "id": "9fb5b327-7d31-4773-bf28-3c85ffae478a",
   "metadata": {},
   "source": [
    "#### Assumption 6:"
   ]
  },
  {
   "cell_type": "markdown",
   "id": "55d4dd5b-a200-4f5e-848e-e54f0bb14a5d",
   "metadata": {},
   "source": [
    "Homogeneity of variance is required for the three groups in the dataset. Homogeneity of variance ensures that the distributions of the outcomes \n",
    "in each of the 3 fertilizer mixture group are comparable and/or equal [5]. Levenes Test is used to assess whether the variance in the three groups \n",
    "are homogenous. In order to meet the assumption of homogeneity the pvalue for the test should be above .05. The test below returns a pvalue of 0.4319 \n",
    "which proves the 3 independent groups are similar which proves that assumption 6 criteria has been met for ANOVA testing."
   ]
  },
  {
   "cell_type": "code",
   "execution_count": 9,
   "id": "65dde14a-be9c-4fbd-a150-62bfc461f774",
   "metadata": {},
   "outputs": [
    {
     "data": {
      "text/plain": [
       "LeveneResult(statistic=0.8471814796777352, pvalue=0.43190199882090996)"
      ]
     },
     "execution_count": 9,
     "metadata": {},
     "output_type": "execute_result"
    }
   ],
   "source": [
    "# test for equal variances.\n",
    "ss.levene(\n",
    "    dv[iv == 1],\n",
    "    dv[iv == 2],\n",
    "    dv[iv == 3]\n",
    ")"
   ]
  },
  {
   "cell_type": "markdown",
   "id": "78469978-1600-42ce-ba42-4c9f22bf49d6",
   "metadata": {},
   "source": [
    "Apart from assumption 4 where one outlier is identified in the fertilizer mixture group 3 all the other assumptions are valid and have passed \n",
    "the appropriate tests. Therefore I can proceed with the one-way ANOVA test for the crop yield dataset."
   ]
  },
  {
   "cell_type": "markdown",
   "id": "c41e4dd4-cbfb-4910-a9da-28a585a447ba",
   "metadata": {},
   "source": [
    "## Perform the ANOVA"
   ]
  },
  {
   "cell_type": "code",
   "execution_count": 10,
   "id": "86c50a0d-ca6c-4c2c-b5c8-2b6f8751643c",
   "metadata": {},
   "outputs": [
    {
     "data": {
      "text/plain": [
       "F_onewayResult(statistic=7.862751645215487, pvalue=0.0006999157502874401)"
      ]
     },
     "execution_count": 10,
     "metadata": {},
     "output_type": "execute_result"
    }
   ],
   "source": [
    "# perform the ANOVA.\n",
    "ss.f_oneway(\n",
    "    dv[iv == 1],\n",
    "    dv[iv == 2],\n",
    "    dv[iv == 3]\n",
    ")"
   ]
  },
  {
   "cell_type": "markdown",
   "id": "58369b74-ea7c-4967-8ca1-8a5541ded8fe",
   "metadata": {},
   "source": [
    "### Analysis of results"
   ]
  },
  {
   "cell_type": "markdown",
   "id": "ff1eef88-11c6-484a-bd4b-a88b990ccd0f",
   "metadata": {},
   "source": [
    "The test is to determine if the 3 different fertilizer mixture groups produce a significant difference in the crop-yield for the areas of pasture \n",
    "where the fertilizer was applied. The F-value is calculated as F-value = variation between sample means / variation within the samples\n",
    "If the variation between the sample means is high relative to the variation within each of the samples, then the F-value will be large [7]. The p-value \n",
    "that corresponds to this F-value, we can use an F Distribution Calculator with numerator degrees of freedom = df Treatment and denominator degrees of \n",
    "freedom = df Error.\n",
    "The pvalue of the ANOVA test is the probability that measures the evidence against the null hypothesis. Lower probabilities provide stronger evidence \n",
    "against the null hypothesis [8]. A significance level of 0.05 indicates a 5% risk of concluding that a difference exists when there is no actual difference.\n",
    "A pvalue of less than 0.05 the difference between some of the means is statistically significant and the null hypothesis is rejected. So for the one-way ANOVA \n",
    "on the Crop yield dataset it is concluded that with a pvalue of 0.000699 the difference between some of the means is significantly different and the null hypothesis \n",
    "is therefore rejected."
   ]
  },
  {
   "cell_type": "markdown",
   "id": "8f183919-8131-4737-a2c0-34a17f33e218",
   "metadata": {},
   "source": [
    "### Post hoc test"
   ]
  },
  {
   "cell_type": "markdown",
   "id": "bd00374b-8f5f-4852-b434-398130bd0433",
   "metadata": {},
   "source": [
    "The ANOVA test identifies if there are differences in the means of the three fertilizer mixture groups. However the test does not identify which \n",
    "group is significantly different from the other groups. A post hoc test can identify which group means is significantly different from the other \n",
    "groups means. The Tukey test is one of the most common post hoc tests and is used to make a comparison between the means of each group."
   ]
  },
  {
   "cell_type": "code",
   "execution_count": 11,
   "id": "7bd2a745-17a9-4dec-bc9b-8a3918f06506",
   "metadata": {},
   "outputs": [
    {
     "name": "stdout",
     "output_type": "stream",
     "text": [
      "Multiple Comparison of Means - Tukey HSD, FWER=0.05\n",
      "===================================================\n",
      "group1 group2 meandiff p-adj   lower  upper  reject\n",
      "---------------------------------------------------\n",
      "     1      2   0.1762 0.4968 -0.1937 0.5461  False\n",
      "     1      3   0.5991  0.001  0.2292  0.969   True\n",
      "     2      3    0.423 0.0209  0.0531 0.7929   True\n",
      "---------------------------------------------------\n"
     ]
    }
   ],
   "source": [
    "# perform Tukey post hoc test [9]\n",
    "tukey = pairwise_tukeyhsd(endog=df['yield'],\n",
    "                          groups=df['fertilizer'],\n",
    "                          alpha=0.05)\n",
    "\n",
    "# display results\n",
    "print(tukey)"
   ]
  },
  {
   "cell_type": "markdown",
   "id": "6b1a9b01-281c-4c4e-945c-0903f95571a5",
   "metadata": {},
   "source": [
    "The Tukey test prints out the test results in the table above. The pvalue (p-adj in the table) are the results to be interpreted for difference in means.\n",
    "\n",
    "P-value for the difference in means between groups 1 and 2: 0.4968\n",
    "P-value for the difference in means between groups 1 and 3: 0.001\n",
    "P-value for the difference in means between groups 2 and 3: 0.0209\n",
    "    \n",
    "This would suggest that there is a statistically significant difference between the means of groups 1 and 3 and between groups 2 and 3 as the pvalue\n",
    "is less than 0.05 but means between groups 1 and 2 are not significantly different."
   ]
  },
  {
   "cell_type": "markdown",
   "id": "72170c69-5e7a-4de1-91d1-d0652c7bc7d1",
   "metadata": {},
   "source": [
    "## References:\n",
    "[1] - Statistical functions (scipy.stats); https://docs.scipy.org/doc/scipy/reference/stats.html\n",
    "\n",
    "[2] - One-way ANOVA in SPSS Statistics; https://statistics.laerd.com/spss-tutorials/one-way-anova-using-spss-statistics.php\n",
    "\n",
    "[3] - One-Way vs Two-Way ANOVA: Differences, Assumptions and Hypotheses; https://www.technologynetworks.com/informatics/articles/one-way-vs-two-way-anova-definition-differences-assumptions-and-hypotheses-306553\n",
    "\n",
    "[4] - Box Plot; https://en.wikipedia.org/wiki/Box_plot\n",
    "\n",
    "[5] - Homogeneity of variance and ANOVA; https://www.scalestatistics.com/homogeneity-of-variance-and-anova.html\n",
    "\n",
    "[6] - PYTHON FOR DATA SCIENCE; https://www.pythonfordatascience.org/anova-python/\n",
    "\n",
    "[7] - What Does a High F Value Mean in ANOVA?; https://www.statology.org/what-does-a-high-f-value-mean/\n",
    "\n",
    "[8] - Interpret all statistics and graphs for One-Way ANOVA; https://support.minitab.com/en-us/minitab-express/1/help-and-how-to/modeling-statistics/anova/how-to/one-way-anova/interpret-the-results/all-statistics-and-graphs/\n",
    "\n",
    "[9] - How to Perform Tukey’s Test in Python; https://www.statology.org/tukey-test-python/"
   ]
  },
  {
   "cell_type": "markdown",
   "id": "5213fe75-6cce-48c8-9b21-2cd81290489c",
   "metadata": {},
   "source": [
    "***\n",
    "### End"
   ]
  }
 ],
 "metadata": {
  "kernelspec": {
   "display_name": "Python 3",
   "language": "python",
   "name": "python3"
  },
  "language_info": {
   "codemirror_mode": {
    "name": "ipython",
    "version": 3
   },
   "file_extension": ".py",
   "mimetype": "text/x-python",
   "name": "python",
   "nbconvert_exporter": "python",
   "pygments_lexer": "ipython3",
   "version": "3.8.8"
  }
 },
 "nbformat": 4,
 "nbformat_minor": 5
}
