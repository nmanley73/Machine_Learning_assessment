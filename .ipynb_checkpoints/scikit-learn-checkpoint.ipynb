{
 "cells": [
  {
   "cell_type": "markdown",
   "id": "b11ebe0e-b700-4e5e-80ca-5993e8b4b9e3",
   "metadata": {},
   "source": [
    "# Machine Learning Assessment\n",
    "\n",
    "***"
   ]
  },
  {
   "cell_type": "code",
   "execution_count": 5,
   "id": "895a64d6-bb2c-4a07-b85a-f35b6e07926a",
   "metadata": {},
   "outputs": [],
   "source": [
    "import sklearn as sk"
   ]
  },
  {
   "cell_type": "code",
   "execution_count": null,
   "id": "793a3d97-d962-40f3-8999-ba6c02ae89b4",
   "metadata": {},
   "outputs": [],
   "source": []
  },
  {
   "cell_type": "code",
   "execution_count": null,
   "id": "e718aa04-7486-4115-a3a1-14c99788494b",
   "metadata": {},
   "outputs": [],
   "source": []
  },
  {
   "cell_type": "code",
   "execution_count": null,
   "id": "9816b757-8024-4e3e-9ba2-ea7f6487e0f0",
   "metadata": {},
   "outputs": [],
   "source": []
  },
  {
   "cell_type": "markdown",
   "id": "e7fbae56-6116-4420-9cb6-d76d331953f3",
   "metadata": {},
   "source": [
    "## References:\n",
    "[1]\n",
    "[2]\n",
    "[3]"
   ]
  },
  {
   "cell_type": "code",
   "execution_count": null,
   "id": "ed18ebb0-4ebd-4058-b855-94184137d4a3",
   "metadata": {},
   "outputs": [],
   "source": [
    "***"
   ]
  }
 ],
 "metadata": {
  "kernelspec": {
   "display_name": "Python 3",
   "language": "python",
   "name": "python3"
  },
  "language_info": {
   "codemirror_mode": {
    "name": "ipython",
    "version": 3
   },
   "file_extension": ".py",
   "mimetype": "text/x-python",
   "name": "python",
   "nbconvert_exporter": "python",
   "pygments_lexer": "ipython3",
   "version": "3.8.8"
  }
 },
 "nbformat": 4,
 "nbformat_minor": 5
}
