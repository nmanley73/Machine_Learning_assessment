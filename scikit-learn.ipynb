{
 "cells": [
  {
   "cell_type": "markdown",
   "id": "b11ebe0e-b700-4e5e-80ca-5993e8b4b9e3",
   "metadata": {},
   "source": [
    "# Machine Learning Assessment\n",
    "\n",
    "***"
   ]
  },
  {
   "cell_type": "markdown",
   "id": "322d4824-bf01-4c94-8fe7-2db7fdea9cc5",
   "metadata": {},
   "source": [
    "## Overview of Sci-kit Learn:"
   ]
  },
  {
   "cell_type": "markdown",
   "id": "efe158c0-59e7-4436-80a9-82b76f104c2f",
   "metadata": {},
   "source": [
    "SciKit-Learn is a free software machine-Learning, Python library. It was initially developed as a summer code project by French Data Scientist David Cournapeau in 2007 [1]. The first public release of Scikit-Learn was in January 2010. Scikit-Learn provides a wide variety of helpful tools for machine Learning and statistical modelling including classification, regression, clustering models and dimensionality reduction via a python interface such as commander or Visual Studio Code. The library is built on SciPy (scientific python), NumPy (numeric python), pandas (analysing datasets), matplotlib (plotting library). The Scikit learn library is focussed on modelling data [2] and uses these other libraries to load, manipulate and summarize data.\n",
    "\n",
    "Some of the most common models produced by the Sci-kit learn library include:\n",
    "- Supervised Learning \n",
    "An algorithm is trained on a labelled dataset. The algorithm uses the results to clasify data and make accurate predictions based om the data. Supervised learning is classified into 2 types.\n",
    "    - Classification belongs to two or more classes and we want to predict the unlabelled data from already labelled data.\n",
    "    - Regression, consists of one or more continuous variables.\n",
    "- Unsupervised Learning algorithms As the name suggest the models are not sepervised. Instead the model finds the underlying structure of the dataset according to similarities or trends in the data [3]\n",
    "- Clustering grouping the data points into different clusters whichare similar\n",
    "- Cross Validation which is used to assess a machine learning model and test its accuracy. [4]\n",
    "- Feature extraction for defining attributes in images and text data\n",
    "\n",
    "Other models include Dimensionality reduction, Ensemble methods, Parameter tuning and Datasets\n"
   ]
  },
  {
   "cell_type": "markdown",
   "id": "c1860d0a-a7cb-45f1-ba1b-a162f39ec946",
   "metadata": {},
   "source": [
    "## Demo of three Sci-kit-learn algorithms"
   ]
  },
  {
   "cell_type": "markdown",
   "id": "8af5b2dd-7652-4ed4-8df1-2c44c0dd9958",
   "metadata": {},
   "source": [
    "### Nearest Neighbors"
   ]
  },
  {
   "cell_type": "code",
   "execution_count": null,
   "id": "189d90f9-8dba-4099-a2c9-64ec652a90df",
   "metadata": {},
   "outputs": [],
   "source": [
    "The nearest neighbor algorithm can be used in both supervised and unsupervised data modelling. In supervised learning the KNN \n",
    "algorithm is used for both classification and regression methods. In the KNN modelling the model structure is determined from \n",
    "the dataset used for the model generation. The objective of the KNN method is to find a number a predefined number of training \n",
    "data points closest in distance to the new data points and make a prediction based upon that.\n",
    "\n",
    "\n",
    "\n"
   ]
  },
  {
   "cell_type": "code",
   "execution_count": null,
   "id": "dc29b23d-04cb-4ec7-82f7-b07cc062aba8",
   "metadata": {},
   "outputs": [],
   "source": []
  },
  {
   "cell_type": "code",
   "execution_count": null,
   "id": "b6d38f19-6ff0-4bc5-b3d0-4ade70689be1",
   "metadata": {},
   "outputs": [],
   "source": []
  },
  {
   "cell_type": "markdown",
   "id": "e7fbae56-6116-4420-9cb6-d76d331953f3",
   "metadata": {},
   "source": [
    "## References:\n",
    "\n",
    "[1] - Wikipedia, scikit-learn; https://en.wikipedia.org/wiki/Scikit-learn\n",
    "\n",
    "[2] - A Gentle Introduction to Scikit-Learn: A Python Machine Learning Library; https://machinelearningmastery.com/a-gentle-introduction-to-scikit-learn-a-python-machine-learning-library/\n",
    "\n",
    "[3] - Unsupervised Machine Learning: https://www.javatpoint.com/unsupervised-machine-learning\n",
    "\n",
    "[4] - What Is Cross-Validation? Comparing Machine Learning Models: https://learn.g2.com/cross-validation"
   ]
  },
  {
   "cell_type": "code",
   "execution_count": null,
   "id": "8e187686-2202-40e9-8ea2-f4976f14a473",
   "metadata": {},
   "outputs": [],
   "source": []
  }
 ],
 "metadata": {
  "kernelspec": {
   "display_name": "Python 3",
   "language": "python",
   "name": "python3"
  },
  "language_info": {
   "codemirror_mode": {
    "name": "ipython",
    "version": 3
   },
   "file_extension": ".py",
   "mimetype": "text/x-python",
   "name": "python",
   "nbconvert_exporter": "python",
   "pygments_lexer": "ipython3",
   "version": "3.8.8"
  }
 },
 "nbformat": 4,
 "nbformat_minor": 5
}
