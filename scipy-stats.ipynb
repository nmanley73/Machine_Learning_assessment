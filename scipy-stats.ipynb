{
 "cells": [
  {
   "cell_type": "markdown",
   "id": "9e28f7ea-1caf-4e65-8a94-50331db829aa",
   "metadata": {},
   "source": [
    "# Machine Learning Assessment\n",
    "\n",
    "***"
   ]
  },
  {
   "cell_type": "markdown",
   "id": "2d14ab88-d7cf-44a4-a875-0db69a5cc027",
   "metadata": {},
   "source": [
    "## Overview of Scipy.Stats python Library:"
   ]
  },
  {
   "cell_type": "markdown",
   "id": "bdd203f6-5f8e-46cb-aec1-95e0865088db",
   "metadata": {},
   "source": [
    "Scipy.Stats is a sub-package of the Scipy library. Scipy.stats is an open source library which consists of a package used predominantly for \n",
    "probabilistic distributions and statistical operations. Scipy.Stats also consists of functions that generate descriptive statistical values.\n",
    "It deals with random, continuous variables. Common functions of scipy stats package include t-test, binomial distribution and Uniform distribution."
   ]
  },
  {
   "cell_type": "markdown",
   "id": "55377ffb-f1e8-46af-a2c3-d19538e1e84b",
   "metadata": {},
   "source": [
    "## Anova hypothesis testing"
   ]
  },
  {
   "cell_type": "code",
   "execution_count": null,
   "id": "c54b63e0-3c23-4615-8f8a-4b1689c67333",
   "metadata": {},
   "outputs": [],
   "source": []
  },
  {
   "cell_type": "code",
   "execution_count": null,
   "id": "ee745592-030b-407c-ad9e-f4128ce4df2b",
   "metadata": {},
   "outputs": [],
   "source": []
  },
  {
   "cell_type": "code",
   "execution_count": null,
   "id": "1e4cf461-2ce8-49b9-bcad-c620ce95b31b",
   "metadata": {},
   "outputs": [],
   "source": []
  },
  {
   "cell_type": "markdown",
   "id": "72170c69-5e7a-4de1-91d1-d0652c7bc7d1",
   "metadata": {},
   "source": [
    "## References:\n",
    "[1]"
   ]
  },
  {
   "cell_type": "code",
   "execution_count": null,
   "id": "b1ef5357-50c6-401e-84e6-a3bdb831863b",
   "metadata": {},
   "outputs": [],
   "source": []
  }
 ],
 "metadata": {
  "kernelspec": {
   "display_name": "Python 3",
   "language": "python",
   "name": "python3"
  },
  "language_info": {
   "codemirror_mode": {
    "name": "ipython",
    "version": 3
   },
   "file_extension": ".py",
   "mimetype": "text/x-python",
   "name": "python",
   "nbconvert_exporter": "python",
   "pygments_lexer": "ipython3",
   "version": "3.8.8"
  }
 },
 "nbformat": 4,
 "nbformat_minor": 5
}
